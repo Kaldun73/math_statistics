{
 "cells": [
  {
   "cell_type": "code",
   "execution_count": 6,
   "metadata": {},
   "outputs": [],
   "source": [
    "import numpy as np\n",
    "from scipy import stats\n",
    "from matplotlib import pyplot as plt\n",
    "from scipy.stats import norm\n"
   ]
  },
  {
   "cell_type": "markdown",
   "metadata": {},
   "source": [
    "__Задача 1__\n",
    "\n",
    "О непрерывной равномерно распределённой случайной величине `B` известно, что её дисперсия равна 0.2. Можно ли найти правую границу величины `B` и её среднее значение зная, что левая граница равна 0.5? Если да, найдите их.\n"
   ]
  },
  {
   "cell_type": "markdown",
   "metadata": {},
   "source": [
    "Если дисперсия равна $$D(X) = \\dfrac{(b - a)^2}{12}$$, то в нашем случае получается $$0.2 = \\dfrac{(b - 0.5)^2}{12}.$$ Получаем квадратное уравнение $$b^2 - b - 2.15 = 0$$"
   ]
  },
  {
   "cell_type": "markdown",
   "metadata": {},
   "source": [
    "У него два корня - $$\\approx -1.05$$ и  $$\\approx 2.049193338482967$$"
   ]
  },
  {
   "cell_type": "markdown",
   "metadata": {},
   "source": [
    "Так как нам известно, что левая граница равна 0.5, то первый корень не подходит. Значит правая граница равна второму корню. отсюда по формуле мат. ожидания получаем: $$M(X) = \\dfrac{0.5 + 2.049193338482967}{2}  \\approx 1.274596669241484$$"
   ]
  },
  {
   "cell_type": "markdown",
   "metadata": {},
   "source": [
    "__Задача 2__\n",
    "\n",
    "Коробки с шоколадом упаковываются автоматически. Их средняя масса равна 1.06 кг. Известно, что 5% коробок имеют массу, меньшую 1 кг. Найдите: а) среднее квадратическое отклонение массы коробки, б) процент коробок, имеющих массу больше 1.1 кг.\n",
    "\n",
    "_Подсказка_. Найдите такое значение `scale`, для которого значение `cdf(x=1, loc=1.06, scale=scale)` близко к 0.05. Точности 0.0001 будет достаточно.\n"
   ]
  },
  {
   "cell_type": "code",
   "execution_count": 11,
   "metadata": {},
   "outputs": [
    {
     "name": "stdout",
     "output_type": "stream",
     "text": [
      "Cреднее квадратическое отклонение массы коробки = 0.03647764776477648\n"
     ]
    }
   ],
   "source": [
    "for i in np.linspace(0.02, 0.05, 10000):\n",
    "    s = stats.norm.cdf(1, loc=1.06, scale=i)\n",
    "    if s > 0.05:\n",
    "        print(f'Cреднее квадратическое отклонение массы коробки = {i}')\n",
    "        break"
   ]
  },
  {
   "cell_type": "code",
   "execution_count": 13,
   "metadata": {},
   "outputs": [
    {
     "name": "stdout",
     "output_type": "stream",
     "text": [
      "Процент коробок, имеющих массу больше 1.1 кг: 13.64%\n"
     ]
    }
   ],
   "source": [
    "p = 1-stats.norm.cdf(1.1, loc=1.06, scale=0.03647764776477648)\n",
    "print(f'Процент коробок, имеющих массу больше 1.1 кг: {round(p*100, 2)}%')"
   ]
  },
  {
   "cell_type": "markdown",
   "metadata": {},
   "source": [
    "__Задача 3__\n",
    "\n",
    "Коробка содержит 30 конфет. Известно, что масса каждой конфеты распределена равномерно в промежутке от 12 до 14 граммов. Используя центральную предельную теорему, найти вероятность, что масса всей коробки будет: а) меньше 390 граммов, б) больше 395 граммов, в) от 380 до 400 граммов.\n",
    "\n",
    "Массой самой коробки можно пренебречь."
   ]
  },
  {
   "cell_type": "code",
   "execution_count": 14,
   "metadata": {},
   "outputs": [
    {
     "data": {
      "text/plain": [
       "(13.0, 0.3333333333333333)"
      ]
     },
     "execution_count": 14,
     "metadata": {},
     "output_type": "execute_result"
    }
   ],
   "source": [
    "a = 12\n",
    "b = 14\n",
    "n = 30\n",
    "\n",
    "m = (a + b) / 2\n",
    "d = (b - a)**2 / 12\n",
    "\n",
    "m,d"
   ]
  },
  {
   "cell_type": "code",
   "execution_count": 15,
   "metadata": {},
   "outputs": [
    {
     "data": {
      "text/plain": [
       "(390.0, 10.0)"
      ]
     },
     "execution_count": 15,
     "metadata": {},
     "output_type": "execute_result"
    }
   ],
   "source": [
    "box_weight = n * m\n",
    "sigma = n * d\n",
    "\n",
    "box_weight, sigma"
   ]
  },
  {
   "cell_type": "code",
   "execution_count": 16,
   "metadata": {},
   "outputs": [],
   "source": [
    "less_390 = norm.cdf(x=390, loc=box_weight, scale=sigma)\n",
    "more_395 = 1 - norm.cdf(x=395, loc=box_weight, scale=sigma)\n",
    "\n",
    "more_380 = norm.cdf(x=380, loc=box_weight, scale=sigma)\n",
    "less_400 = norm.cdf(x=400, loc=box_weight, scale=sigma)\n",
    "between = less_400 - more_380"
   ]
  },
  {
   "cell_type": "code",
   "execution_count": 17,
   "metadata": {},
   "outputs": [
    {
     "name": "stdout",
     "output_type": "stream",
     "text": [
      "Вероятность, что масса всей коробки будет меньше 390 граммов = 0.5\n",
      "Вероятность, что масса всей коробки будет больше 395 граммов = 0.3085375387259869\n",
      "Вероятность, что масса всей коробки будет от 380 до 400 граммов = 0.6826894921370859\n"
     ]
    }
   ],
   "source": [
    "print('Вероятность, что масса всей коробки будет меньше 390 граммов =', less_390)\n",
    "print('Вероятность, что масса всей коробки будет больше 395 граммов =', more_395)\n",
    "print('Вероятность, что масса всей коробки будет от 380 до 400 граммов =', between)"
   ]
  },
  {
   "cell_type": "code",
   "execution_count": null,
   "metadata": {},
   "outputs": [],
   "source": []
  }
 ],
 "metadata": {
  "kernelspec": {
   "display_name": "Python 3",
   "language": "python",
   "name": "python3"
  },
  "language_info": {
   "codemirror_mode": {
    "name": "ipython",
    "version": 3
   },
   "file_extension": ".py",
   "mimetype": "text/x-python",
   "name": "python",
   "nbconvert_exporter": "python",
   "pygments_lexer": "ipython3",
   "version": "3.7.6"
  }
 },
 "nbformat": 4,
 "nbformat_minor": 4
}
